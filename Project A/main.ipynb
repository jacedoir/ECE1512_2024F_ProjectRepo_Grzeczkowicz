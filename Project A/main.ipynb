{
  "cells": [
    {
      "cell_type": "code",
      "execution_count": 4,
      "metadata": {
        "colab": {
          "base_uri": "https://localhost:8080/",
          "height": 383
        },
        "id": "6OePBl3IdKCG",
        "outputId": "b8cb8166-1e2e-4511-932f-dd9d9b9e82b4"
      },
      "outputs": [],
      "source": [
        "from utils import *"
      ]
    },
    {
      "cell_type": "markdown",
      "metadata": {},
      "source": [
        "#Task 1"
      ]
    },
    {
      "cell_type": "markdown",
      "metadata": {},
      "source": [
        "##Part 2\n",
        "The chosen model is ConvNet"
      ]
    },
    {
      "cell_type": "code",
      "execution_count": 5,
      "metadata": {},
      "outputs": [],
      "source": [
        "from ptflops import get_model_complexity_info\n",
        "import matplotlib.pyplot as plt\n",
        "from tqdm import tqdm\n",
        "\n",
        "\n",
        "device = torch.device(\"cuda\" if torch.cuda.is_available() else \"cpu\")\n",
        "\n",
        "\n",
        "class Args:\n",
        "    def __init__(self):\n",
        "        self.device = 'cuda' if torch.cuda.is_available() else 'cpu'\n",
        "\n",
        "def train(net, trainloader, criterion, optimizer,device=device):\n",
        "    net.train()\n",
        "    net.to(device)\n",
        "    #create args.device \n",
        "    args = Args()\n",
        "    args.device = device\n",
        "    progress_bar = tqdm(range(20), total=20, desc=f'Training - No data available', leave=True)\n",
        "\n",
        "    for i in progress_bar:\n",
        "        loss_avg, acc_avg, num_exp = 0, 0, 0\n",
        "        for i_batch, datum in enumerate(trainloader):\n",
        "            img = datum[0].float().to(args.device)\n",
        "            lab = datum[1].long().to(args.device)\n",
        "            n_b = lab.shape[0]\n",
        "\n",
        "            output = net(img)\n",
        "            loss = criterion(output, lab)\n",
        "            acc = np.sum(np.equal(np.argmax(output.cpu().data.numpy(), axis=-1), lab.cpu().data.numpy()))\n",
        "            loss_avg += loss.item()*n_b\n",
        "            acc_avg += acc\n",
        "            num_exp += n_b\n",
        "\n",
        "            \n",
        "            optimizer.zero_grad()\n",
        "            loss.backward()\n",
        "            optimizer.step()\n",
        "\n",
        "        loss_avg /= num_exp\n",
        "        acc_avg /= num_exp\n",
        "        progress_bar.set_description(f'Training - Loss: {loss_avg:.4f} - Accuracy: {acc_avg:.4f}')\n",
        "    return net\n",
        "\n",
        "def test(net, testloader, criterion, optimizer,device=device):\n",
        "    net.eval()\n",
        "    net.to(device)\n",
        "    args = Args()\n",
        "    args.device = device\n",
        "    loss_avg, acc_avg, num_exp = 0, 0, 0\n",
        "    for i_batch, datum in enumerate(testloader):\n",
        "        img = datum[0].float().to(args.device)\n",
        "        lab = datum[1].long().to(args.device)\n",
        "        n_b = lab.shape[0]\n",
        "\n",
        "        output = net(img)\n",
        "        loss = criterion(output, lab)\n",
        "        acc = np.sum(np.equal(np.argmax(output.cpu().data.numpy(), axis=-1), lab.cpu().data.numpy()))\n",
        "        loss_avg += loss.item()*n_b\n",
        "        acc_avg += acc\n",
        "        num_exp += n_b\n",
        "\n",
        "\n",
        "    loss_avg /= num_exp\n",
        "    acc_avg /= num_exp\n",
        "    print(f'Accuracy of the network on the test images: {acc_avg*100}%')\n",
        "\n",
        "def count_flops(net, channel, im_size):\n",
        "    param = (channel, im_size[0], im_size[1])\n",
        "    flops, params = get_model_complexity_info(net, param, as_strings=True, print_per_layer_stat=False)\n",
        "    print(f'FLOPs: {flops}')\n",
        "    print(f'Params: {params}')"
      ]
    },
    {
      "cell_type": "code",
      "execution_count": 3,
      "metadata": {},
      "outputs": [
        {
          "name": "stderr",
          "output_type": "stream",
          "text": [
            "Training - Loss: 0.0116 - Accuracy: 0.9976: 100%|██████████| 20/20 [02:55<00:00,  8.77s/it]\n"
          ]
        }
      ],
      "source": [
        "#MNIST Dataset\n",
        "data_path = \"./Project A/data\"\n",
        "\n",
        "#load the dataset\n",
        "channel, im_size, num_classes, class_names, mean, std, dst_train, dst_test, testloader = get_dataset(\"MNIST\", data_path)\n",
        "\n",
        "#define the model\n",
        "net = get_network('ConvNetD3', channel, num_classes, im_size)\n",
        "net.to(device)\n",
        "\n",
        "#define the loss function\n",
        "criterion = nn.CrossEntropyLoss()\n",
        "#define the optimizer\n",
        "optimizer = torch.optim.SGD(net.parameters(), lr=0.01)\n",
        "#define the learning rate scheduler\n",
        "#train the model\n",
        "#create trainloader\n",
        "trainloader = torch.utils.data.DataLoader(dst_train, batch_size=64, shuffle=True)\n",
        "net = train(net, trainloader, criterion, optimizer)"
      ]
    },
    {
      "cell_type": "code",
      "execution_count": 4,
      "metadata": {},
      "outputs": [
        {
          "name": "stdout",
          "output_type": "stream",
          "text": [
            "Accuracy of the network on the test images: 99.4%\n",
            "FLOPs: 49.59 MMac\n",
            "Params: 317.71 k\n"
          ]
        }
      ],
      "source": [
        "#test the model, report accuracy and FLOPs\n",
        "#testloader = torch.utils.data.DataLoader(dst_test, batch_size=64, shuffle=False)\n",
        "test(net, testloader, criterion, optimizer, device)\n",
        "#report the FLOPs\n",
        "count_flops(net, channel, im_size) "
      ]
    },
    {
      "cell_type": "code",
      "execution_count": 6,
      "metadata": {},
      "outputs": [
        {
          "name": "stderr",
          "output_type": "stream",
          "text": [
            "Training - No data available:   0%|          | 0/20 [00:00<?, ?it/s]"
          ]
        },
        {
          "name": "stderr",
          "output_type": "stream",
          "text": [
            "Training - Loss: 0.5546 - Accuracy: 0.7145:  10%|█         | 2/20 [00:09<01:22,  4.60s/it]"
          ]
        }
      ],
      "source": [
        "#MHIST Dataset\n",
        "#load the dataset\n",
        "data_path = \"mhist_dataset\"\n",
        "#print files in the directory\n",
        "channel, im_size, num_classes, class_names, mean, std, dst_train, dst_test, testloader = get_dataset(\"MHIST\", data_path)\n",
        "\n",
        "#define the model\n",
        "net = get_network('ConvNetD7', channel, num_classes, im_size)\n",
        "net.to(device) \n",
        "\n",
        "#define the loss function\n",
        "criterion = nn.CrossEntropyLoss()\n",
        "#define the optimizer\n",
        "optimizer = torch.optim.SGD(net.parameters(), lr=0.01)\n",
        "#define the learning rate scheduler\n",
        "#train the model\n",
        "#create trainloader\n",
        "trainloader = torch.utils.data.DataLoader(dst_train, batch_size=64, shuffle=True)\n",
        "net=train(net, trainloader, criterion, optimizer)\n",
        "            \n",
        "            "
      ]
    },
    {
      "cell_type": "code",
      "execution_count": 6,
      "metadata": {},
      "outputs": [
        {
          "name": "stdout",
          "output_type": "stream",
          "text": [
            "Accuracy of the network on the test images: 80.4503582395087%\n",
            "FLOPs: 2.7 GMac\n",
            "Params: 891.14 k\n"
          ]
        }
      ],
      "source": [
        "#test the model, report accuracy and FLOPs\n",
        "test(net, testloader, criterion, optimizer, \"cpu\")\n",
        "#report the FLOPs\n",
        "count_flops(net, channel, im_size) "
      ]
    },
    {
      "cell_type": "markdown",
      "metadata": {},
      "source": [
        "### Distillation function\n",
        "Found here https://github.com/DataDistillation/DataDAM/blob/main/main_DataDAM.py"
      ]
    },
    {
      "cell_type": "code",
      "execution_count": 3,
      "metadata": {},
      "outputs": [
        {
          "name": "stderr",
          "output_type": "stream",
          "text": [
            "/Data/GRZ/ECE1512_2024F_ProjectRepo_Grzeczkowicz/Project A/DataDAM.py:51: UserWarning: To copy construct from a tensor, it is recommended to use sourceTensor.clone().detach() or sourceTensor.clone().detach().requires_grad_(True), rather than torch.tensor(sourceTensor).\n",
            "  class_indices = torch.where(torch.tensor(self.real_dataset.targets) == i)[0]\n"
          ]
        },
        {
          "ename": "TypeError",
          "evalue": "optimizer can only optimize Tensors, but one of the params is tuple",
          "output_type": "error",
          "traceback": [
            "\u001b[0;31m---------------------------------------------------------------------------\u001b[0m",
            "\u001b[0;31mTypeError\u001b[0m                                 Traceback (most recent call last)",
            "Cell \u001b[0;32mIn[3], line 19\u001b[0m\n\u001b[1;32m     16\u001b[0m optimizer \u001b[38;5;241m=\u001b[39m torch\u001b[38;5;241m.\u001b[39moptim\u001b[38;5;241m.\u001b[39mSGD(net\u001b[38;5;241m.\u001b[39mparameters(), lr\u001b[38;5;241m=\u001b[39m\u001b[38;5;241m0.01\u001b[39m)\n\u001b[1;32m     18\u001b[0m distillator \u001b[38;5;241m=\u001b[39m DataDAM(net, dst_train, IPC\u001b[38;5;241m=\u001b[39m\u001b[38;5;241m10\u001b[39m, num_classes\u001b[38;5;241m=\u001b[39mnum_classes, im_size\u001b[38;5;241m=\u001b[39mim_size, channels\u001b[38;5;241m=\u001b[39mchannel, K\u001b[38;5;241m=\u001b[39m\u001b[38;5;241m100\u001b[39m, T\u001b[38;5;241m=\u001b[39m\u001b[38;5;241m10\u001b[39m, eta_S\u001b[38;5;241m=\u001b[39m\u001b[38;5;241m0.1\u001b[39m, zeta_S\u001b[38;5;241m=\u001b[39m\u001b[38;5;241m1\u001b[39m, eta_theta\u001b[38;5;241m=\u001b[39m\u001b[38;5;241m0.01\u001b[39m, zeta_theta\u001b[38;5;241m=\u001b[39m\u001b[38;5;241m1\u001b[39m, lambda_mmd\u001b[38;5;241m=\u001b[39m\u001b[38;5;241m0.01\u001b[39m, device\u001b[38;5;241m=\u001b[39mdevice)\n\u001b[0;32m---> 19\u001b[0m \u001b[43mdistillator\u001b[49m\u001b[38;5;241;43m.\u001b[39;49m\u001b[43minitialize_synthetic_dataset\u001b[49m\u001b[43m(\u001b[49m\u001b[43m)\u001b[49m\n\u001b[1;32m     20\u001b[0m distillator\u001b[38;5;241m.\u001b[39mtrain()\n\u001b[1;32m     22\u001b[0m \u001b[38;5;66;03m#get the condensed dataset\u001b[39;00m\n",
            "File \u001b[0;32m/Data/GRZ/ECE1512_2024F_ProjectRepo_Grzeczkowicz/Project A/DataDAM.py:45\u001b[0m, in \u001b[0;36mDataDAM.initialize_synthetic_dataset\u001b[0;34m(self)\u001b[0m\n\u001b[1;32m     42\u001b[0m     \u001b[38;5;28mself\u001b[39m\u001b[38;5;241m.\u001b[39msynthetic_dataset \u001b[38;5;241m=\u001b[39m \u001b[38;5;28mself\u001b[39m\u001b[38;5;241m.\u001b[39m_generate_noise_images()\n\u001b[1;32m     44\u001b[0m \u001b[38;5;66;03m# Now that synthetic dataset exists, set up its optimizer\u001b[39;00m\n\u001b[0;32m---> 45\u001b[0m \u001b[38;5;28mself\u001b[39m\u001b[38;5;241m.\u001b[39moptimizer_S \u001b[38;5;241m=\u001b[39m \u001b[43mtorch\u001b[49m\u001b[38;5;241;43m.\u001b[39;49m\u001b[43moptim\u001b[49m\u001b[38;5;241;43m.\u001b[39;49m\u001b[43mSGD\u001b[49m\u001b[43m(\u001b[49m\u001b[43m[\u001b[49m\u001b[43m{\u001b[49m\u001b[38;5;124;43m'\u001b[39;49m\u001b[38;5;124;43mparams\u001b[39;49m\u001b[38;5;124;43m'\u001b[39;49m\u001b[43m:\u001b[49m\u001b[43m \u001b[49m\u001b[38;5;28;43mself\u001b[39;49m\u001b[38;5;241;43m.\u001b[39;49m\u001b[43msynthetic_dataset\u001b[49m\u001b[43m}\u001b[49m\u001b[43m]\u001b[49m\u001b[43m,\u001b[49m\u001b[43m \u001b[49m\u001b[43mlr\u001b[49m\u001b[38;5;241;43m=\u001b[39;49m\u001b[38;5;28;43mself\u001b[39;49m\u001b[38;5;241;43m.\u001b[39;49m\u001b[43meta_S\u001b[49m\u001b[43m)\u001b[49m\n",
            "File \u001b[0;32m/Data/GRZ/ECE1512_2024F_ProjectRepo_Grzeczkowicz/ECE1512/lib/python3.10/site-packages/torch/optim/sgd.py:56\u001b[0m, in \u001b[0;36mSGD.__init__\u001b[0;34m(self, params, lr, momentum, dampening, weight_decay, nesterov, maximize, foreach, differentiable, fused)\u001b[0m\n\u001b[1;32m     54\u001b[0m \u001b[38;5;28;01mif\u001b[39;00m nesterov \u001b[38;5;129;01mand\u001b[39;00m (momentum \u001b[38;5;241m<\u001b[39m\u001b[38;5;241m=\u001b[39m \u001b[38;5;241m0\u001b[39m \u001b[38;5;129;01mor\u001b[39;00m dampening \u001b[38;5;241m!=\u001b[39m \u001b[38;5;241m0\u001b[39m):\n\u001b[1;32m     55\u001b[0m     \u001b[38;5;28;01mraise\u001b[39;00m \u001b[38;5;167;01mValueError\u001b[39;00m(\u001b[38;5;124m\"\u001b[39m\u001b[38;5;124mNesterov momentum requires a momentum and zero dampening\u001b[39m\u001b[38;5;124m\"\u001b[39m)\n\u001b[0;32m---> 56\u001b[0m \u001b[38;5;28;43msuper\u001b[39;49m\u001b[43m(\u001b[49m\u001b[43m)\u001b[49m\u001b[38;5;241;43m.\u001b[39;49m\u001b[38;5;21;43m__init__\u001b[39;49m\u001b[43m(\u001b[49m\u001b[43mparams\u001b[49m\u001b[43m,\u001b[49m\u001b[43m \u001b[49m\u001b[43mdefaults\u001b[49m\u001b[43m)\u001b[49m\n\u001b[1;32m     58\u001b[0m \u001b[38;5;28;01mif\u001b[39;00m fused:\n\u001b[1;32m     59\u001b[0m     \u001b[38;5;28mself\u001b[39m\u001b[38;5;241m.\u001b[39m_step_supports_amp_scaling \u001b[38;5;241m=\u001b[39m \u001b[38;5;28;01mTrue\u001b[39;00m\n",
            "File \u001b[0;32m/Data/GRZ/ECE1512_2024F_ProjectRepo_Grzeczkowicz/ECE1512/lib/python3.10/site-packages/torch/optim/optimizer.py:367\u001b[0m, in \u001b[0;36mOptimizer.__init__\u001b[0;34m(self, params, defaults)\u001b[0m\n\u001b[1;32m    364\u001b[0m     param_groups \u001b[38;5;241m=\u001b[39m [{\u001b[38;5;124m\"\u001b[39m\u001b[38;5;124mparams\u001b[39m\u001b[38;5;124m\"\u001b[39m: param_groups}]\n\u001b[1;32m    366\u001b[0m \u001b[38;5;28;01mfor\u001b[39;00m param_group \u001b[38;5;129;01min\u001b[39;00m param_groups:\n\u001b[0;32m--> 367\u001b[0m     \u001b[38;5;28;43mself\u001b[39;49m\u001b[38;5;241;43m.\u001b[39;49m\u001b[43madd_param_group\u001b[49m\u001b[43m(\u001b[49m\u001b[43mcast\u001b[49m\u001b[43m(\u001b[49m\u001b[38;5;28;43mdict\u001b[39;49m\u001b[43m,\u001b[49m\u001b[43m \u001b[49m\u001b[43mparam_group\u001b[49m\u001b[43m)\u001b[49m\u001b[43m)\u001b[49m\n\u001b[1;32m    369\u001b[0m \u001b[38;5;66;03m# Allows _cuda_graph_capture_health_check to rig a poor man's TORCH_WARN_ONCE in python,\u001b[39;00m\n\u001b[1;32m    370\u001b[0m \u001b[38;5;66;03m# which I don't think exists\u001b[39;00m\n\u001b[1;32m    371\u001b[0m \u001b[38;5;66;03m# https://github.com/pytorch/pytorch/issues/72948\u001b[39;00m\n\u001b[1;32m    372\u001b[0m \u001b[38;5;28mself\u001b[39m\u001b[38;5;241m.\u001b[39m_warned_capturable_if_run_uncaptured \u001b[38;5;241m=\u001b[39m \u001b[38;5;28;01mTrue\u001b[39;00m\n",
            "File \u001b[0;32m/Data/GRZ/ECE1512_2024F_ProjectRepo_Grzeczkowicz/ECE1512/lib/python3.10/site-packages/torch/_compile.py:31\u001b[0m, in \u001b[0;36m_disable_dynamo.<locals>.inner\u001b[0;34m(*args, **kwargs)\u001b[0m\n\u001b[1;32m     28\u001b[0m     disable_fn \u001b[38;5;241m=\u001b[39m torch\u001b[38;5;241m.\u001b[39m_dynamo\u001b[38;5;241m.\u001b[39mdisable(fn, recursive)\n\u001b[1;32m     29\u001b[0m     fn\u001b[38;5;241m.\u001b[39m__dynamo_disable \u001b[38;5;241m=\u001b[39m disable_fn\n\u001b[0;32m---> 31\u001b[0m \u001b[38;5;28;01mreturn\u001b[39;00m \u001b[43mdisable_fn\u001b[49m\u001b[43m(\u001b[49m\u001b[38;5;241;43m*\u001b[39;49m\u001b[43margs\u001b[49m\u001b[43m,\u001b[49m\u001b[43m \u001b[49m\u001b[38;5;241;43m*\u001b[39;49m\u001b[38;5;241;43m*\u001b[39;49m\u001b[43mkwargs\u001b[49m\u001b[43m)\u001b[49m\n",
            "File \u001b[0;32m/Data/GRZ/ECE1512_2024F_ProjectRepo_Grzeczkowicz/ECE1512/lib/python3.10/site-packages/torch/_dynamo/eval_frame.py:600\u001b[0m, in \u001b[0;36mDisableContext.__call__.<locals>._fn\u001b[0;34m(*args, **kwargs)\u001b[0m\n\u001b[1;32m    598\u001b[0m prior \u001b[38;5;241m=\u001b[39m set_eval_frame(callback)\n\u001b[1;32m    599\u001b[0m \u001b[38;5;28;01mtry\u001b[39;00m:\n\u001b[0;32m--> 600\u001b[0m     \u001b[38;5;28;01mreturn\u001b[39;00m \u001b[43mfn\u001b[49m\u001b[43m(\u001b[49m\u001b[38;5;241;43m*\u001b[39;49m\u001b[43margs\u001b[49m\u001b[43m,\u001b[49m\u001b[43m \u001b[49m\u001b[38;5;241;43m*\u001b[39;49m\u001b[38;5;241;43m*\u001b[39;49m\u001b[43mkwargs\u001b[49m\u001b[43m)\u001b[49m\n\u001b[1;32m    601\u001b[0m \u001b[38;5;28;01mfinally\u001b[39;00m:\n\u001b[1;32m    602\u001b[0m     set_eval_frame(prior)\n",
            "File \u001b[0;32m/Data/GRZ/ECE1512_2024F_ProjectRepo_Grzeczkowicz/ECE1512/lib/python3.10/site-packages/torch/optim/optimizer.py:1014\u001b[0m, in \u001b[0;36mOptimizer.add_param_group\u001b[0;34m(self, param_group)\u001b[0m\n\u001b[1;32m   1012\u001b[0m \u001b[38;5;28;01mfor\u001b[39;00m param \u001b[38;5;129;01min\u001b[39;00m param_group[\u001b[38;5;124m\"\u001b[39m\u001b[38;5;124mparams\u001b[39m\u001b[38;5;124m\"\u001b[39m]:\n\u001b[1;32m   1013\u001b[0m     \u001b[38;5;28;01mif\u001b[39;00m \u001b[38;5;129;01mnot\u001b[39;00m \u001b[38;5;28misinstance\u001b[39m(param, torch\u001b[38;5;241m.\u001b[39mTensor):\n\u001b[0;32m-> 1014\u001b[0m         \u001b[38;5;28;01mraise\u001b[39;00m \u001b[38;5;167;01mTypeError\u001b[39;00m(\n\u001b[1;32m   1015\u001b[0m             \u001b[38;5;124m\"\u001b[39m\u001b[38;5;124moptimizer can only optimize Tensors, \u001b[39m\u001b[38;5;124m\"\u001b[39m\n\u001b[1;32m   1016\u001b[0m             \u001b[38;5;124m\"\u001b[39m\u001b[38;5;124mbut one of the params is \u001b[39m\u001b[38;5;124m\"\u001b[39m \u001b[38;5;241m+\u001b[39m torch\u001b[38;5;241m.\u001b[39mtypename(param)\n\u001b[1;32m   1017\u001b[0m         )\n\u001b[1;32m   1018\u001b[0m     \u001b[38;5;28;01mif\u001b[39;00m \u001b[38;5;129;01mnot\u001b[39;00m \u001b[38;5;28mself\u001b[39m\u001b[38;5;241m.\u001b[39mdefaults\u001b[38;5;241m.\u001b[39mget(\u001b[38;5;124m\"\u001b[39m\u001b[38;5;124mdifferentiable\u001b[39m\u001b[38;5;124m\"\u001b[39m, \u001b[38;5;28;01mNone\u001b[39;00m) \u001b[38;5;129;01mand\u001b[39;00m \u001b[38;5;129;01mnot\u001b[39;00m (\n\u001b[1;32m   1019\u001b[0m         param\u001b[38;5;241m.\u001b[39mis_leaf \u001b[38;5;129;01mor\u001b[39;00m param\u001b[38;5;241m.\u001b[39mretains_grad\n\u001b[1;32m   1020\u001b[0m     ):\n\u001b[1;32m   1021\u001b[0m         \u001b[38;5;28;01mraise\u001b[39;00m \u001b[38;5;167;01mValueError\u001b[39;00m(\u001b[38;5;124m\"\u001b[39m\u001b[38;5;124mcan\u001b[39m\u001b[38;5;124m'\u001b[39m\u001b[38;5;124mt optimize a non-leaf Tensor\u001b[39m\u001b[38;5;124m\"\u001b[39m)\n",
            "\u001b[0;31mTypeError\u001b[0m: optimizer can only optimize Tensors, but one of the params is tuple"
          ]
        }
      ],
      "source": [
        "from DataDAM import DataDAM\n",
        "\n",
        "#MNIST Dataset\n",
        "data_path = \"./Project A/data\"\n",
        "\n",
        "#load the dataset\n",
        "channel, im_size, num_classes, class_names, mean, std, dst_train, dst_test, testloader = get_dataset(\"MNIST\", data_path)\n",
        "\n",
        "#define the model\n",
        "net = get_network('ConvNetD3', channel, num_classes, im_size)\n",
        "net.to(device)\n",
        "\n",
        "#define the loss function\n",
        "criterion = nn.CrossEntropyLoss()\n",
        "#define the optimizer\n",
        "optimizer = torch.optim.SGD(net.parameters(), lr=0.01)\n",
        "\n",
        "distillator = DataDAM(net, dst_train, IPC=10, num_classes=num_classes, im_size=im_size, channels=channel, K=100, T=10, eta_S=0.1, zeta_S=1, eta_theta=0.01, zeta_theta=1, lambda_mmd=0.01, device=device)\n",
        "distillator.initialize_synthetic_dataset()\n",
        "distillator.train()\n",
        "\n",
        "#get the condensed dataset\n",
        "condensed_dataset = distillator.get_condensed_dataset()\n",
        "\n",
        "#print the condensed images\n",
        "plt.imshow(condensed_dataset[0][0].reshape(28, 28), cmap='gray')\n",
        "plt.show()\n",
        "\n"
      ]
    }
  ],
  "metadata": {
    "colab": {
      "provenance": []
    },
    "kernelspec": {
      "display_name": "Python 3",
      "name": "python3"
    },
    "language_info": {
      "codemirror_mode": {
        "name": "ipython",
        "version": 3
      },
      "file_extension": ".py",
      "mimetype": "text/x-python",
      "name": "python",
      "nbconvert_exporter": "python",
      "pygments_lexer": "ipython3",
      "version": "3.10.15"
    }
  },
  "nbformat": 4,
  "nbformat_minor": 0
}
